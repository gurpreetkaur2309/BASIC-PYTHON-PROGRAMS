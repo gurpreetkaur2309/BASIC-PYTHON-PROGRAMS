{
  "nbformat": 4,
  "nbformat_minor": 0,
  "metadata": {
    "colab": {
      "provenance": [],
      "authorship_tag": "ABX9TyNbfQObS7To4XNtMy8JiQhk",
      "include_colab_link": true
    },
    "kernelspec": {
      "name": "python3",
      "display_name": "Python 3"
    },
    "language_info": {
      "name": "python"
    }
  },
  "cells": [
    {
      "cell_type": "markdown",
      "metadata": {
        "id": "view-in-github",
        "colab_type": "text"
      },
      "source": [
        "<a href=\"https://colab.research.google.com/github/gurpreetkaur2309/BASIC-PYTHON-PROGRAMS/blob/main/internal1_gurpreet_kaur_khanuja_IT_2K21_19.ipynb\" target=\"_parent\"><img src=\"https://colab.research.google.com/assets/colab-badge.svg\" alt=\"Open In Colab\"/></a>"
      ]
    },
    {
      "cell_type": "code",
      "execution_count": null,
      "metadata": {
        "id": "jhDlR61z1RYp"
      },
      "outputs": [],
      "source": [
        "\n",
        "\"\"\"arithmetic and logical,relation operator\"\"\"\n",
        "\n",
        "num1=int(input(\"enter the first number\"))\n",
        "num2=int(input(\"enter the second number\"))\n",
        "print(\"sum of two numbers is\",num1+num2)\n",
        "print(\"multiplication of two numbers is\",num1*num2)\n",
        "print(\"subtraction of two numbers is\",num1-num2)\n",
        "print(\"division of two numbers is\",num1/num2)\n",
        "if num1>num2:\n",
        " print(num1, \"is greater than \" ,num2)\n",
        "else:\n",
        " print(num2,\"is greater than \",num1)\n",
        "if num1<num2:\n",
        " print(num1, \"is less than \" ,num2)\n",
        "else:\n",
        " print(num2,\"is less than \",num1)\n",
        "a=bin(num1)\n",
        "b=bin(num2)\n",
        "print(a)\n",
        "print(b)\n"
      ]
    },
    {
      "cell_type": "code",
      "source": [
        "\"\"\"even or odd\"\"\"\n",
        "num1=int(input(\"enter the number\"))\n",
        "if num1%2==0:\n",
        "  print(num1,\"is a even number\")\n",
        "else:\n",
        "  print(num1,\"is a odd number\")\n"
      ],
      "metadata": {
        "colab": {
          "base_uri": "https://localhost:8080/"
        },
        "id": "J1alitAH5dYk",
        "outputId": "59f89496-9537-407f-ee78-45886aec859c"
      },
      "execution_count": null,
      "outputs": [
        {
          "output_type": "stream",
          "name": "stdout",
          "text": [
            "enter the number78\n",
            "78 is a even number\n"
          ]
        }
      ]
    },
    {
      "cell_type": "code",
      "source": [],
      "metadata": {
        "id": "yjwiZLMG2l0N"
      },
      "execution_count": null,
      "outputs": []
    },
    {
      "cell_type": "code",
      "source": [
        "#greatest of two numbers\n",
        "\n",
        "num1=int(input(\"enter the first number\"))\n",
        "num2=int(input(\"enter the second number\"))\n",
        "if num1>num2\n",
        " print(num1,\"is the greatest number\")\n",
        "else \n",
        "  print(num2,\"is greatest number\")\n",
        "if num1<num2\n",
        " print(num1,\"is the smallest number\")\n",
        "else \n",
        "  print(num2,\"is smallest number\")"
      ],
      "metadata": {
        "id": "IQClZm4u80nr"
      },
      "execution_count": null,
      "outputs": []
    },
    {
      "cell_type": "code",
      "source": [
        "#greatest of three numbers\n",
        "num1=int(input(\"enter the first number\"))\n",
        "num2=int(input(\"enter the second number\"))\n",
        "num3=int(input(\"enter the third number\"))\n",
        "if num1>num2:\n",
        "  if num1>num3:\n",
        "    print(num1,\"is the greatest number\")\n",
        "else: \n",
        "   if num2>num3:\n",
        "    print(num2,\"is greatest\")\n",
        "   else:\n",
        "    print(num3,\"is greatest\")   \n"
      ],
      "metadata": {
        "id": "dPTNu7vB-i1c",
        "colab": {
          "base_uri": "https://localhost:8080/"
        },
        "outputId": "c760c9c2-3b5d-424c-bbf8-5a061b7bc4a9"
      },
      "execution_count": null,
      "outputs": [
        {
          "output_type": "stream",
          "name": "stdout",
          "text": [
            "enter the first number22\n",
            "enter the second number23\n",
            "enter the third number25\n",
            "25 is greatest\n"
          ]
        }
      ]
    },
    {
      "cell_type": "code",
      "source": [
        "#prime or composite\n",
        "num=int(input(\"enter the number\"))\n",
        "flag=0\n",
        "for i in range(2,num,1):\n",
        "   if num%i==0:\n",
        "    flag=1\n",
        "if flag==1:\n",
        "  print(num,\" is composite\")   \n",
        "else :\n",
        " print(num,\" is prime\")"
      ],
      "metadata": {
        "colab": {
          "base_uri": "https://localhost:8080/"
        },
        "id": "sAf6Y-5DEkfp",
        "outputId": "18a3848c-1752-4731-fabc-0add7607b6ad"
      },
      "execution_count": null,
      "outputs": [
        {
          "output_type": "stream",
          "name": "stdout",
          "text": [
            "enter the number13\n",
            "13  is prime\n"
          ]
        }
      ]
    },
    {
      "cell_type": "code",
      "source": [],
      "metadata": {
        "id": "JLBb5iHCGdaO"
      },
      "execution_count": null,
      "outputs": []
    },
    {
      "cell_type": "code",
      "source": [
        "#odd number in a range\n",
        "lower_limit=int(input(\"enter the lower limit till you want odd number\"))\n",
        "upper_limit=int(input(\"enter the uppar limit\"))\n",
        "for i in range(lower_limit,upper_limit+1):\n",
        " if i%2!=0:\n",
        "   print(i)\n",
        "print(\"these are odd number\")"
      ],
      "metadata": {
        "colab": {
          "base_uri": "https://localhost:8080/"
        },
        "id": "sHH_QMatGdbY",
        "outputId": "c49b370d-e3b9-47c9-d836-e421926ad8f1"
      },
      "execution_count": null,
      "outputs": [
        {
          "output_type": "stream",
          "name": "stdout",
          "text": [
            "enter the lower limit till you want odd number3\n",
            "enter the uppar limit10\n",
            "3\n",
            "5\n",
            "7\n",
            "9\n",
            "these are odd number\n"
          ]
        }
      ]
    },
    {
      "cell_type": "code",
      "source": [
        "# prime number in a range\n",
        "\n",
        "lower_limit=int(input(\"enter the lower limit till you want prime number\"))\n",
        "upper_limit=int(input(\"enter the uppar limit\"))\n",
        "flag=0\n",
        "for i in range(lower_limit,upper_limit+1,1):\n",
        "   for j in range(2,i,1):\n",
        "      if i%j==0:\n",
        "        break;\n",
        "   else:\n",
        "       print(i)\n"
      ],
      "metadata": {
        "id": "9c1M77XHJ9r_",
        "colab": {
          "base_uri": "https://localhost:8080/"
        },
        "outputId": "e6b2b5a7-9a64-470b-f27c-7d23a8f59dd0"
      },
      "execution_count": null,
      "outputs": [
        {
          "output_type": "stream",
          "name": "stdout",
          "text": [
            "enter the lower limit till you want prime number10\n",
            "enter the uppar limit30\n",
            "11\n",
            "13\n",
            "17\n",
            "19\n",
            "23\n",
            "29\n"
          ]
        }
      ]
    },
    {
      "cell_type": "code",
      "source": [
        "\n",
        "#reverse of a number\n",
        "num=input(\"enter the number\")\n",
        "n=len(num);\n",
        "num=int(num)\n",
        "rev=0\n",
        "for i in range (1,n+1):\n",
        " rem=num%10\n",
        " num=num//10\n",
        " rev=rev*10+rem\n",
        "print(\"reverse of a number is \",rev)"
      ],
      "metadata": {
        "colab": {
          "base_uri": "https://localhost:8080/"
        },
        "id": "r4FEuLm12ujQ",
        "outputId": "6ff55220-f52f-4a7f-b32f-cd48d595b11f"
      },
      "execution_count": null,
      "outputs": [
        {
          "output_type": "stream",
          "name": "stdout",
          "text": [
            "enter the number12345\n",
            "reverse of a number is  54321\n"
          ]
        }
      ]
    },
    {
      "cell_type": "code",
      "source": [
        "#pallindrome or not\n",
        "num=input(\"enter the number\")\n",
        "n=len(num);\n",
        "num=int(num)\n",
        "rev=0\n",
        "a=num\n",
        "for i in range (1,n+1):\n",
        " rem=num%10\n",
        " num=num//10\n",
        " rev=rev*10+rem\n",
        "if a==rev:\n",
        " print(a,\"is a pallindrome\")\n",
        "else:\n",
        "  print(a,\"is not a pallindrome\")"
      ],
      "metadata": {
        "colab": {
          "base_uri": "https://localhost:8080/"
        },
        "id": "zoXEymlz4n1-",
        "outputId": "ba8f0f44-2c6b-4d9b-cfb5-9ddfb22f8091"
      },
      "execution_count": null,
      "outputs": [
        {
          "output_type": "stream",
          "name": "stdout",
          "text": [
            "enter the number12345\n",
            "12345 is not a pallindrome\n"
          ]
        }
      ]
    },
    {
      "cell_type": "code",
      "source": [
        "#armstrong number \n",
        "num=input(\"enter the number\")\n",
        "n=len(num);\n",
        "num=int(num)\n",
        "temp=int(num)\n",
        "arm=0\n",
        "for i in range (1,n+1):\n",
        " rem=num%10\n",
        " num=num//10\n",
        " arm=arm+rem**n\n",
        "print(arm)\n",
        "if temp==arm:\n",
        "  print(\"it is armstrong number\")\n",
        "else :\n",
        "  print(\"it is not a armstrong number\")\n"
      ],
      "metadata": {
        "colab": {
          "base_uri": "https://localhost:8080/"
        },
        "id": "9-OOjLxJ5G6j",
        "outputId": "3feb4f61-ec5b-4b6e-857c-6f362e4fd915"
      },
      "execution_count": null,
      "outputs": [
        {
          "output_type": "stream",
          "name": "stdout",
          "text": [
            "enter the number153\n",
            "153\n",
            "it is armstrong number\n"
          ]
        }
      ]
    },
    {
      "cell_type": "code",
      "source": [
        "#armstrong number in a range\n",
        "lower_limit=int(input(\"enter the lower limit\"))\n",
        "upper_limit=int(input(\"enter the upper limit\"))\n",
        "for i in range(lower_limit,upper_limit+1):\n",
        "  n=len(str(i));\n",
        "  num=int(i)\n",
        "  arm=0\n",
        "  temp=int(i)\n",
        "  for j in range(1,n+1):\n",
        "    rem=num%10\n",
        "    num=num//10\n",
        "    arm=arm+rem**n\n",
        "  if temp==arm:\n",
        "    print(arm)"
      ],
      "metadata": {
        "colab": {
          "base_uri": "https://localhost:8080/"
        },
        "id": "yU4ihkNW7Lb4",
        "outputId": "07bbb6f8-94a2-482c-bf94-8ea1c4a0935c"
      },
      "execution_count": null,
      "outputs": [
        {
          "output_type": "stream",
          "name": "stdout",
          "text": [
            "enter the lower limit1\n",
            "enter the upper limit200\n",
            "1\n",
            "2\n",
            "3\n",
            "4\n",
            "5\n",
            "6\n",
            "7\n",
            "8\n",
            "9\n",
            "153\n"
          ]
        }
      ]
    },
    {
      "cell_type": "code",
      "source": [
        "#sum of first n natural number\n",
        "num=int(input(\"ENTER THE NUMBER\"))\n",
        "sum=0\n",
        "for i in range(1,num+1):\n",
        "  sum=sum+i\n",
        "print(\"sum of first\",num,\"natural number is\",sum)\n"
      ],
      "metadata": {
        "id": "Nc-H0sye_3q-",
        "colab": {
          "base_uri": "https://localhost:8080/"
        },
        "outputId": "8ec3dcb7-4ba1-4d24-eab7-07e7c2cef11b"
      },
      "execution_count": null,
      "outputs": [
        {
          "output_type": "stream",
          "name": "stdout",
          "text": [
            "ENTER THE NUMBER10\n",
            "sum of first 10 natural number is 55\n"
          ]
        }
      ]
    },
    {
      "cell_type": "code",
      "source": [
        "#factorial of a given number\n",
        "num=int(input(\"enter the number\"))\n",
        "fact=1\n",
        "for i in range(1,num+1):\n",
        " fact=fact*i\n",
        "print(\"factorial is\",fact)\n"
      ],
      "metadata": {
        "colab": {
          "base_uri": "https://localhost:8080/"
        },
        "id": "L3NHcok32yT5",
        "outputId": "dd20244e-368e-49f2-8579-fd8483b181b5"
      },
      "execution_count": null,
      "outputs": [
        {
          "output_type": "stream",
          "name": "stdout",
          "text": [
            "enter the number5\n",
            "factorial is 120\n"
          ]
        }
      ]
    },
    {
      "cell_type": "code",
      "source": [
        " #fibonacci series upto n term \n",
        " num=int(input(\"enter the number\"))\n",
        " fibo=0\n",
        " fiboo1=1\n",
        " sum=0\n",
        " if (num==1):\n",
        "  print(fibo)\n",
        " if (num==2):\n",
        "  print(fibo,fiboo1)\n",
        " if(num>2):\n",
        "   print(fibo)\n",
        "   print(fiboo1)\n",
        "   for i in range(2,num):\n",
        "     sum=fibo+fiboo1\n",
        "     fibo=fiboo1\n",
        "     fiboo1=sum\n",
        "\n",
        "     print(sum)"
      ],
      "metadata": {
        "colab": {
          "base_uri": "https://localhost:8080/"
        },
        "id": "b-0TXYLe-QnU",
        "outputId": "398323fb-6fe3-42a2-cdb1-eeefb033f9a7"
      },
      "execution_count": null,
      "outputs": [
        {
          "output_type": "stream",
          "name": "stdout",
          "text": [
            "enter the number7\n",
            "0\n",
            "1\n",
            "1\n",
            "2\n",
            "3\n",
            "5\n",
            "8\n"
          ]
        }
      ]
    },
    {
      "cell_type": "code",
      "source": [
        "#leap year or not\n",
        "num=int(input('enter the number'))\n",
        "unit_place=num%10\n",
        "num=num//10\n",
        "ten_place=num%10\n",
        "num=num*10+unit_place\n",
        "if (unit_place==0 and ten_place==0):\n",
        "   if (num%400==0):\n",
        "     print(\"leap year\")\n",
        "   else:\n",
        "    print(\"not a leap year\")\n",
        "elif(num%4==0):\n",
        "    print(\"leap year\")\n",
        "else:\n",
        "  print(\"not a leap year\")"
      ],
      "metadata": {
        "colab": {
          "base_uri": "https://localhost:8080/"
        },
        "id": "Iz6Jd0hubKKO",
        "outputId": "197cfc8b-6d84-4015-9b9b-b648a18f3ecc"
      },
      "execution_count": null,
      "outputs": [
        {
          "output_type": "stream",
          "name": "stdout",
          "text": [
            "enter the number2024\n",
            "leap year\n"
          ]
        }
      ]
    },
    {
      "cell_type": "code",
      "source": [
        "#celsius and farenheit temperature conversion\n",
        "celcius=float(input(\"enter the temperature in celsius \"))\n",
        "fren=(celcius*1.8)+32\n",
        "print(\"temperature in farenheit is\",fren)\n",
        "fren=float(input(\"enter the temperature in ferenheit\"))\n",
        "celcius = fren - 32\n",
        "celcius=celcius/1.8\n",
        "print(\"temperature in celcius is \",celcius)\n"
      ],
      "metadata": {
        "colab": {
          "base_uri": "https://localhost:8080/"
        },
        "id": "I96I5TqPRoa0",
        "outputId": "2e6c7110-14c1-4d16-dcf5-cd940fe2669b"
      },
      "execution_count": null,
      "outputs": [
        {
          "output_type": "stream",
          "name": "stdout",
          "text": [
            "enter the temperature in celsius 27\n",
            "temperature in farenheit is 80.6\n",
            "enter the temperature in ferenheit80.6\n",
            "temperature in celcius is  26.999999999999996\n"
          ]
        }
      ]
    },
    {
      "cell_type": "code",
      "source": [
        "#factor of a number\n",
        "num=int(input(\"enter the number\"))\n",
        "def numf():\n",
        " print(1)\n",
        " for i in range(2,num):\n",
        "  if(num%i==0):\n",
        "   print(i)\n",
        " print(num) \n",
        " return(num)\n",
        "print(\"these are factor of\",numf())\n"
      ],
      "metadata": {
        "colab": {
          "base_uri": "https://localhost:8080/"
        },
        "id": "yLf8WV-9KIXR",
        "outputId": "1100a0c3-e0b5-4df8-918f-e3894728bd35"
      },
      "execution_count": null,
      "outputs": [
        {
          "output_type": "stream",
          "name": "stdout",
          "text": [
            "enter the number32\n",
            "1\n",
            "2\n",
            "4\n",
            "8\n",
            "16\n",
            "32\n",
            "these are factor of 32\n"
          ]
        }
      ]
    },
    {
      "cell_type": "code",
      "source": [
        "#conversion of decimal to binary,octal,hexadecimal;\n",
        "num=int(input(\"enter the decimal number\"))\n",
        "binary=bin(num);\n",
        "print(\"binary is \",binary)\n",
        "octal=oct(num);\n",
        "print(\"octal of \",num, \"is \",octal)\n",
        "hexadecimal=hex(num);\n",
        "print(\"hexadecimal of\",num ,\"is\",hexadecimal)"
      ],
      "metadata": {
        "colab": {
          "base_uri": "https://localhost:8080/"
        },
        "id": "sWD_IFJ9Lcsh",
        "outputId": "24449e3e-8b83-48ca-e735-51337bfde852"
      },
      "execution_count": null,
      "outputs": [
        {
          "output_type": "stream",
          "name": "stdout",
          "text": [
            "enter the decimal number4\n",
            "binary is  0b100\n",
            "octal of  4 is  0o4\n",
            "hexadecimal of 4 is 0x4\n"
          ]
        }
      ]
    },
    {
      "cell_type": "code",
      "source": [
        "# factorial of a program using function\n",
        "def factorial(n):\n",
        "  i=n\n",
        "  f=1\n",
        "  if n>0:\n",
        "    while i>1:\n",
        "      f=f*i\n",
        "      i=i-1\n",
        "  return f \n",
        "n=int(input(\"enter the number\"))\n",
        "print(\"factorial of  \",n,\"is\",factorial(n))   \n",
        "\n"
      ],
      "metadata": {
        "colab": {
          "base_uri": "https://localhost:8080/"
        },
        "id": "SiJGzTsm2xcb",
        "outputId": "f84adf16-f89d-48be-c7b6-179b32c6e17f"
      },
      "execution_count": null,
      "outputs": [
        {
          "output_type": "stream",
          "name": "stdout",
          "text": [
            "enter the number5\n",
            "factorial of   5 is 120\n"
          ]
        }
      ]
    },
    {
      "cell_type": "code",
      "source": [
        "#from os import SF_NODISKIO\n",
        "#fibonacci using recursion\n",
        "num=int(input(\"enter the number of terms in series\"))\n",
        "fnum=0\n",
        "snum=1\n",
        "p=num-2\n",
        "result=0\n",
        "def rfibonacci(p):\n",
        " if num==2:\n",
        "   return 1\n",
        " else:\n",
        "   return(rfibonacci(p-1)+rfibonacci(p-2))\n",
        "if num==1:\n",
        "  print(fnum)\n",
        "elif num==2:\n",
        "  print(fnum)\n",
        "  print(snum)\n",
        "elif num>2:\n",
        "  print(fnum)\n",
        "  print(snum)\n",
        "  print(rfibonacci(p))\n",
        "\n",
        "\n",
        "\n",
        "\n"
      ],
      "metadata": {
        "colab": {
          "base_uri": "https://localhost:8080/",
          "height": 467
        },
        "id": "JzpS-eFgZZwO",
        "outputId": "2a1f06ce-0de3-4581-a2c0-769f8934a340"
      },
      "execution_count": null,
      "outputs": [
        {
          "output_type": "stream",
          "name": "stdout",
          "text": [
            "enter the number of terms in series5\n",
            "0\n",
            "1\n"
          ]
        },
        {
          "output_type": "error",
          "ename": "RecursionError",
          "evalue": "ignored",
          "traceback": [
            "\u001b[0;31m---------------------------------------------------------------------------\u001b[0m",
            "\u001b[0;31mRecursionError\u001b[0m                            Traceback (most recent call last)",
            "\u001b[0;32m<ipython-input-9-5b26dc287985>\u001b[0m in \u001b[0;36m<module>\u001b[0;34m\u001b[0m\n\u001b[1;32m     19\u001b[0m   \u001b[0mprint\u001b[0m\u001b[0;34m(\u001b[0m\u001b[0mfnum\u001b[0m\u001b[0;34m)\u001b[0m\u001b[0;34m\u001b[0m\u001b[0;34m\u001b[0m\u001b[0m\n\u001b[1;32m     20\u001b[0m   \u001b[0mprint\u001b[0m\u001b[0;34m(\u001b[0m\u001b[0msnum\u001b[0m\u001b[0;34m)\u001b[0m\u001b[0;34m\u001b[0m\u001b[0;34m\u001b[0m\u001b[0m\n\u001b[0;32m---> 21\u001b[0;31m   \u001b[0mprint\u001b[0m\u001b[0;34m(\u001b[0m\u001b[0mrfibonacci\u001b[0m\u001b[0;34m(\u001b[0m\u001b[0mp\u001b[0m\u001b[0;34m)\u001b[0m\u001b[0;34m)\u001b[0m\u001b[0;34m\u001b[0m\u001b[0;34m\u001b[0m\u001b[0m\n\u001b[0m\u001b[1;32m     22\u001b[0m \u001b[0;34m\u001b[0m\u001b[0m\n\u001b[1;32m     23\u001b[0m \u001b[0;34m\u001b[0m\u001b[0m\n",
            "\u001b[0;32m<ipython-input-9-5b26dc287985>\u001b[0m in \u001b[0;36mrfibonacci\u001b[0;34m(p)\u001b[0m\n\u001b[1;32m     10\u001b[0m    \u001b[0;32mreturn\u001b[0m \u001b[0;36m1\u001b[0m\u001b[0;34m\u001b[0m\u001b[0;34m\u001b[0m\u001b[0m\n\u001b[1;32m     11\u001b[0m  \u001b[0;32melse\u001b[0m\u001b[0;34m:\u001b[0m\u001b[0;34m\u001b[0m\u001b[0;34m\u001b[0m\u001b[0m\n\u001b[0;32m---> 12\u001b[0;31m    \u001b[0;32mreturn\u001b[0m\u001b[0;34m(\u001b[0m\u001b[0mrfibonacci\u001b[0m\u001b[0;34m(\u001b[0m\u001b[0mp\u001b[0m\u001b[0;34m-\u001b[0m\u001b[0;36m1\u001b[0m\u001b[0;34m)\u001b[0m\u001b[0;34m+\u001b[0m\u001b[0mrfibonacci\u001b[0m\u001b[0;34m(\u001b[0m\u001b[0mp\u001b[0m\u001b[0;34m-\u001b[0m\u001b[0;36m2\u001b[0m\u001b[0;34m)\u001b[0m\u001b[0;34m)\u001b[0m\u001b[0;34m\u001b[0m\u001b[0;34m\u001b[0m\u001b[0m\n\u001b[0m\u001b[1;32m     13\u001b[0m \u001b[0;32mif\u001b[0m \u001b[0mnum\u001b[0m\u001b[0;34m==\u001b[0m\u001b[0;36m1\u001b[0m\u001b[0;34m:\u001b[0m\u001b[0;34m\u001b[0m\u001b[0;34m\u001b[0m\u001b[0m\n\u001b[1;32m     14\u001b[0m   \u001b[0mprint\u001b[0m\u001b[0;34m(\u001b[0m\u001b[0mfnum\u001b[0m\u001b[0;34m)\u001b[0m\u001b[0;34m\u001b[0m\u001b[0;34m\u001b[0m\u001b[0m\n",
            "... last 1 frames repeated, from the frame below ...\n",
            "\u001b[0;32m<ipython-input-9-5b26dc287985>\u001b[0m in \u001b[0;36mrfibonacci\u001b[0;34m(p)\u001b[0m\n\u001b[1;32m     10\u001b[0m    \u001b[0;32mreturn\u001b[0m \u001b[0;36m1\u001b[0m\u001b[0;34m\u001b[0m\u001b[0;34m\u001b[0m\u001b[0m\n\u001b[1;32m     11\u001b[0m  \u001b[0;32melse\u001b[0m\u001b[0;34m:\u001b[0m\u001b[0;34m\u001b[0m\u001b[0;34m\u001b[0m\u001b[0m\n\u001b[0;32m---> 12\u001b[0;31m    \u001b[0;32mreturn\u001b[0m\u001b[0;34m(\u001b[0m\u001b[0mrfibonacci\u001b[0m\u001b[0;34m(\u001b[0m\u001b[0mp\u001b[0m\u001b[0;34m-\u001b[0m\u001b[0;36m1\u001b[0m\u001b[0;34m)\u001b[0m\u001b[0;34m+\u001b[0m\u001b[0mrfibonacci\u001b[0m\u001b[0;34m(\u001b[0m\u001b[0mp\u001b[0m\u001b[0;34m-\u001b[0m\u001b[0;36m2\u001b[0m\u001b[0;34m)\u001b[0m\u001b[0;34m)\u001b[0m\u001b[0;34m\u001b[0m\u001b[0;34m\u001b[0m\u001b[0m\n\u001b[0m\u001b[1;32m     13\u001b[0m \u001b[0;32mif\u001b[0m \u001b[0mnum\u001b[0m\u001b[0;34m==\u001b[0m\u001b[0;36m1\u001b[0m\u001b[0;34m:\u001b[0m\u001b[0;34m\u001b[0m\u001b[0;34m\u001b[0m\u001b[0m\n\u001b[1;32m     14\u001b[0m   \u001b[0mprint\u001b[0m\u001b[0;34m(\u001b[0m\u001b[0mfnum\u001b[0m\u001b[0;34m)\u001b[0m\u001b[0;34m\u001b[0m\u001b[0;34m\u001b[0m\u001b[0m\n",
            "\u001b[0;31mRecursionError\u001b[0m: maximum recursion depth exceeded in comparison"
          ]
        }
      ]
    },
    {
      "cell_type": "code",
      "source": [
        "# fibonacci series using recursion\n",
        "def rfactorial(n):\n",
        "  if n==1:\n",
        "    return 1\n",
        "  else:\n",
        "    return(n*rfactorial(n-1))\n",
        "n=int(input(\"enter the number\"))\n",
        "print(\"factorial is\",rfactorial(n))\n"
      ],
      "metadata": {
        "id": "AYDOxtD5-c_I",
        "colab": {
          "base_uri": "https://localhost:8080/"
        },
        "outputId": "a5ec3c4e-2174-4227-be29-a35df8f09cbc"
      },
      "execution_count": null,
      "outputs": [
        {
          "output_type": "stream",
          "name": "stdout",
          "text": [
            "enter the number5\n",
            "factorial is 120\n"
          ]
        }
      ]
    },
    {
      "cell_type": "code",
      "source": [
        "\n",
        "# lambda function for power of 2\n",
        "n=int(input ('enter the power of 2 '))\n",
        "power=lambda n:(2)**n\n",
        "print(\"2 raised to\",n,\"is\",power(n))"
      ],
      "metadata": {
        "colab": {
          "base_uri": "https://localhost:8080/"
        },
        "id": "PkiKSMmbng0-",
        "outputId": "86c4cddf-2c9a-43ec-ece9-6db040d075c3"
      },
      "execution_count": null,
      "outputs": [
        {
          "output_type": "stream",
          "name": "stdout",
          "text": [
            "enter the power of 2 5\n",
            "2 raised to 5 is 32\n"
          ]
        }
      ]
    },
    {
      "cell_type": "code",
      "source": [
        "#lambda function voulume of cylinder \n",
        "r=int(input(\"enter the radius of cylinder\"))\n",
        "h=int(input(\"enter the height of cylinder\"))\n",
        "volume=lambda r,h:3.14*r*r*h\n",
        "print(\"volume of cylinder is\",volume(r,h))\n",
        "# for area of triangle\n",
        "s1=int(input(\"enter the side 1 of triangle\"))\n",
        "s2=int(input(\"enter the side 2  of triangle\"))\n",
        "s3=int(input(\"enter the side 3 of triangle\"))\n",
        "semip=(s1+s2+s3)/2\n",
        "area=lambda s1,s2,s3,semip:(semip*(semip-s1)*(semip-s2)*(semip-s3))**0.5\n",
        "print(\"area of triangle is\",area(s1,s2,s3,semip))\n",
        "# for area of circle\n",
        "r=int(input(\"enter the radius of the circle\"))\n",
        "areac=lambda r:(3.14*r*r) \n",
        "print(\"area of circle is\",areac(r))\n",
        "# for area of cylinder \n",
        "r=int(input(\"enter the radius of cylinder\"))\n",
        "h=int(input(\"enter the height of cylinder\"))\n",
        "areacy=lambda r,h:2*3.14*r*h\n",
        "print(\"area of cylinder\",areacy(r,h))\n"
      ],
      "metadata": {
        "colab": {
          "base_uri": "https://localhost:8080/"
        },
        "id": "5HV29wabXvF9",
        "outputId": "08256106-9096-4807-902a-6131b2fb3b2f"
      },
      "execution_count": null,
      "outputs": [
        {
          "output_type": "stream",
          "name": "stdout",
          "text": [
            "enter the radius of cylinder2\n",
            "enter the height of cylinder2\n",
            "volume of cylinder is 25.12\n",
            "enter the side 1 of triangle12\n",
            "enter the side 2  of triangle13\n",
            "enter the side 3 of triangle15\n",
            "area of triangle is 74.83314773547883\n",
            "enter the radius of the circle5\n",
            "area of circle is 78.5\n",
            "enter the radius of cylinder5\n",
            "enter the height of cylinder2\n",
            "area of cylinder 62.800000000000004\n"
          ]
        }
      ]
    },
    {
      "cell_type": "code",
      "source": [
        "# add two matrices\n",
        "l1=[]\n",
        "for x in range (0,3):\n",
        " a=[]\n",
        " for y in range (0,3):\n",
        "     a.append(int(input()))\n",
        " l1.append(a)\n",
        "l2=[]\n",
        "for x in range (0,3):\n",
        " b=[]\n",
        " for y in range (0,3):\n",
        "     b.append(int(input()))\n",
        " l2.append(b)\n",
        "for x in range (0,3):\n",
        " for y in range (0,3):\n",
        "\n",
        "   print(l1[x][y],end=\"  \")\n",
        "\n",
        " print()\n",
        "for x in range (0,3):\n",
        " for y in range (0,3):\n",
        "\n",
        "   print(l2[x][y],end=\"  \")\n",
        " print()\n",
        "\n",
        "\n",
        "sum=[]\n",
        "for x in range (0,3):\n",
        " a3=[]\n",
        " for y in range (0,3):\n",
        "     p=l1[x][y]+l2[x][y]\n",
        "     a3.append(p)\n",
        "\n",
        " sum.append(a3)\n",
        "for x in range (0,3):\n",
        "  for y in range(0,3):\n",
        "    print(sum[x][y],end=\"  \" )\n",
        "  print()\n",
        "\n",
        "\n",
        "\n",
        "\n",
        "\n",
        "\n",
        "\n",
        "\n"
      ],
      "metadata": {
        "colab": {
          "base_uri": "https://localhost:8080/"
        },
        "id": "WAYAKME7ZBGM",
        "outputId": "9b432060-85c6-4043-f762-119b3b36ae06"
      },
      "execution_count": null,
      "outputs": [
        {
          "output_type": "stream",
          "name": "stdout",
          "text": [
            "1\n",
            "2\n",
            "3\n",
            "4\n",
            "5\n",
            "6\n",
            "7\n",
            "8\n",
            "9\n",
            "1\n",
            "2\n",
            "3\n",
            "4\n",
            "5\n",
            "6\n",
            "7\n",
            "8\n",
            "9\n",
            "1  2  3  \n",
            "4  5  6  \n",
            "7  8  9  \n",
            "1  2  3  \n",
            "4  5  6  \n",
            "7  8  9  \n",
            "2  4  6  \n",
            "8  10  12  \n",
            "14  16  18  \n"
          ]
        }
      ]
    },
    {
      "cell_type": "code",
      "source": [
        "#transpose of a matrix\n",
        "l1=[]\n",
        "for x in range(0,3):\n",
        " a=[]\n",
        " for y in range(0,3):\n",
        "     a.append(int(input()))\n",
        " l1.append(a)\n",
        "for x in range (0,3):\n",
        "  for y in range (0,3):\n",
        "    print(l1[x][y],end=\"  \")\n",
        "  print()\n",
        "l2=[]\n",
        "for x in range(0,3):\n",
        "   a3=[]\n",
        "   for y in range(0,3):\n",
        "     a3.append(l1[y][x])\n",
        "   l2.append(a3)\n",
        "print(\"transpose of matrice is\")\n",
        "#for x in range (0,3):\n",
        " # for y in range (0,3):\n",
        "  #  print(l2[x][y],end=\"  \")\n",
        "  #print()\n",
        "print(l2)\n",
        "\n"
      ],
      "metadata": {
        "colab": {
          "base_uri": "https://localhost:8080/"
        },
        "id": "TfXBlVb_7Yta",
        "outputId": "62bb0fa1-7770-444d-ab53-e2b4f1893cef"
      },
      "execution_count": null,
      "outputs": [
        {
          "output_type": "stream",
          "name": "stdout",
          "text": [
            "1\n",
            "2\n",
            "3\n",
            "4\n",
            "5\n",
            "6\n",
            "7\n",
            "8\n",
            "9\n",
            "1  2  3  \n",
            "4  5  6  \n",
            "7  8  9  \n",
            "transpose of matrice is\n",
            "[[1, 4, 7], [2, 5, 8], [3, 6, 9]]\n"
          ]
        }
      ]
    },
    {
      "cell_type": "code",
      "source": [
        "# average of a numeric list\n",
        "l=[]\n",
        "n=int(input(\"enter the size of list\"))\n",
        "for i in range(0,n):\n",
        "  l.append(int(input()))\n",
        "average=sum(l)/n\n",
        "print(\"average is\",average)\n",
        "\n",
        " "
      ],
      "metadata": {
        "colab": {
          "base_uri": "https://localhost:8080/"
        },
        "id": "9X8eUHhH9X3Z",
        "outputId": "97558251-d5f1-490e-a13b-a12213a273f3"
      },
      "execution_count": null,
      "outputs": [
        {
          "output_type": "stream",
          "name": "stdout",
          "text": [
            "enter the size of list3\n",
            "10\n",
            "20\n",
            "30\n",
            "average is 20.0\n"
          ]
        }
      ]
    },
    {
      "cell_type": "code",
      "source": [
        "# slice operation\n",
        "i=[]\n",
        "for j in range(0,10):\n",
        "  i.append(int(input()))\n",
        "print(i[0:])\n",
        "print(i[9::-1])\n",
        "print(i[3:9])\n",
        "print(i[3:])\n",
        "print(i[3: :2])\n",
        "print(i[ : :-2])"
      ],
      "metadata": {
        "colab": {
          "base_uri": "https://localhost:8080/"
        },
        "id": "bO1veHr_tQKh",
        "outputId": "f1a7655f-31a5-49f1-990e-63483bd83a0f"
      },
      "execution_count": null,
      "outputs": [
        {
          "output_type": "stream",
          "name": "stdout",
          "text": [
            "1\n",
            "2\n",
            "3\n",
            "4\n",
            "5\n",
            "6\n",
            "7\n",
            "8\n",
            "9\n",
            "10\n",
            "[1, 2, 3, 4, 5, 6, 7, 8, 9, 10]\n",
            "[10, 9, 8, 7, 6, 5, 4, 3, 2, 1]\n",
            "[4, 5, 6, 7, 8, 9]\n",
            "[4, 5, 6, 7, 8, 9, 10]\n",
            "[4, 6, 8, 10]\n",
            "[10, 8, 6, 4, 2]\n"
          ]
        }
      ]
    },
    {
      "cell_type": "code",
      "source": [
        "#concatinate two list\n",
        "l1=[1,2,3,4,5]\n",
        "l2=[2,3,6,7,8]\n",
        "print(l1+l2)\n",
        "l1.extend(l2)\n",
        "print(l1)\n",
        "for i in l2:\n",
        "  l1.append(l2)\n",
        "print(l1)"
      ],
      "metadata": {
        "colab": {
          "base_uri": "https://localhost:8080/"
        },
        "id": "QgPuSxu3yivF",
        "outputId": "58bd69bc-f08b-4c97-cc81-80f73a646517"
      },
      "execution_count": null,
      "outputs": [
        {
          "output_type": "stream",
          "name": "stdout",
          "text": [
            "[1, 2, 3, 4, 5, 2, 3, 6, 7, 8]\n",
            "[1, 2, 3, 4, 5, 2, 3, 6, 7, 8]\n"
          ]
        }
      ]
    },
    {
      "cell_type": "code",
      "source": [
        "# square of element of list\n",
        "L=(1,2,3,4,5,6)\n",
        "r=tuple(map(lambda x: x*x , L))\n",
        "print(r) "
      ],
      "metadata": {
        "colab": {
          "base_uri": "https://localhost:8080/"
        },
        "id": "-crBV8E3yCQd",
        "outputId": "500e5920-d351-4cc7-ebf6-7c1ab30bab18"
      },
      "execution_count": null,
      "outputs": [
        {
          "output_type": "stream",
          "name": "stdout",
          "text": [
            "(1, 4, 9, 16, 25, 36)\n"
          ]
        }
      ]
    },
    {
      "cell_type": "code",
      "source": [
        "#index of a element and number of occcurence \n",
        "l=[1,2,3,4,5,6,5,4,3,4,5,4,5]\n",
        "index=l.index(3)\n",
        "count=l.count(3)\n",
        "print(\"3 is occured at index\",index,\"count=\",count)"
      ],
      "metadata": {
        "id": "tHrAJoxX0oAu",
        "colab": {
          "base_uri": "https://localhost:8080/"
        },
        "outputId": "9444004f-b281-4b74-9208-3a20ccd65b4e"
      },
      "execution_count": null,
      "outputs": [
        {
          "output_type": "stream",
          "name": "stdout",
          "text": [
            "3 is occured at index 2 count= 2\n"
          ]
        }
      ]
    },
    {
      "cell_type": "code",
      "source": [
        "#duplicate in a list\n",
        "l=[2,3,4,4,5,6,7,5,4,4,5]\n",
        "uni_list=[]\n",
        "dup_list=[]\n",
        "for i in l:\n",
        "  if i not in uni_list:\n",
        "    uni_list.append(i)\n",
        "  elif i not in dup_list:\n",
        "    dup_list.append(i)\n",
        "\n",
        "print(dup_list)\n",
        "\n",
        "\n",
        "\n",
        " "
      ],
      "metadata": {
        "colab": {
          "base_uri": "https://localhost:8080/"
        },
        "id": "U_-e9UnkoQSE",
        "outputId": "c179b3e9-1ec1-4899-9632-be323a027f09"
      },
      "execution_count": null,
      "outputs": [
        {
          "output_type": "stream",
          "name": "stdout",
          "text": [
            "[4, 5]\n"
          ]
        }
      ]
    },
    {
      "cell_type": "code",
      "source": [
        "# iterate over dictionary using for loop\n",
        "dict={\"name\":\"rohan\",\"age\": 16 ,\"status\": \"sin\"}\n",
        "keys=dict.keys()\n",
        "print(keys)\n",
        "values=dict.values()\n",
        "print(values)\n",
        "item=dict.items()\n",
        "print(item)\n",
        "# with for loop \n",
        "print(\"keys are\")\n",
        "for i in dict:\n",
        "  print(i)\n",
        "print(\"values are\")\n",
        "for i in dict.values():\n",
        "  print(i)\n",
        "print(\"items are\")\n",
        "for i in dict.items():\n",
        "  print(i)\n",
        "for i in dict:\n",
        "  print(i ,\":\",dict[i])  \n",
        "\n"
      ],
      "metadata": {
        "colab": {
          "base_uri": "https://localhost:8080/"
        },
        "id": "vmgtwCqVvKR1",
        "outputId": "6c74f709-1343-4901-fb46-641f15fa7870"
      },
      "execution_count": null,
      "outputs": [
        {
          "output_type": "stream",
          "name": "stdout",
          "text": [
            "dict_keys(['name', 'age', 'status'])\n",
            "dict_values(['rohan', 16, 'sin'])\n",
            "dict_items([('name', 'rohan'), ('age', 16), ('status', 'sin')])\n",
            "keys are\n",
            "name\n",
            "age\n",
            "status\n",
            "values are\n",
            "rohan\n",
            "16\n",
            "sin\n",
            "items are\n",
            "('name', 'rohan')\n",
            "('age', 16)\n",
            "('status', 'sin')\n",
            "name : rohan\n",
            "age : 16\n",
            "status : sin\n"
          ]
        }
      ]
    },
    {
      "cell_type": "code",
      "source": [
        "# nested dictionary\n",
        "dict1={\"class1\": {\"name\" :\"nonu\",\"age\":5} ,\"class2\":{\"name\":\"nainsi\",\"age\":10}}\n",
        "print(dict1)\n",
        "print(dict1[\"class1\"][\"age\"])\n",
        "print(dict1[\"class2\"][\"age\"])\n",
        "print(dict1[\"class1\"][\"name\"])\n",
        "print(dict1[\"class2\"][\"name\"])\n",
        "# add a element in  dictionary \n",
        "dict1[\"class3\"]={}\n",
        "dict1[\"class3\"][\"name\"]=\"sangeeta\"\n",
        "dict1[\"class3\"][\"age\"]=78\n",
        "print(dict1)\n",
        "dict1[\"class4\"]={\"name\":\"sujal\",\"age\":56}\n",
        "print(dict1)\n",
        "#delete\n",
        "del dict1[\"class4\"]\n",
        "print(dict1)\n",
        "\n"
      ],
      "metadata": {
        "id": "bOW86xzGzY8c",
        "colab": {
          "base_uri": "https://localhost:8080/"
        },
        "outputId": "b174c725-18b0-4c53-ab8d-132e5c769233"
      },
      "execution_count": null,
      "outputs": [
        {
          "output_type": "stream",
          "name": "stdout",
          "text": [
            "{'class1': {'name': 'nonu', 'age': 5}, 'class2': {'name': 'nainsi', 'age': 10}}\n",
            "5\n",
            "10\n",
            "nonu\n",
            "nainsi\n",
            "{'class1': {'name': 'nonu', 'age': 5}, 'class2': {'name': 'nainsi', 'age': 10}, 'class3': {'name': 'sangeeta', 'age': 78}}\n",
            "{'class1': {'name': 'nonu', 'age': 5}, 'class2': {'name': 'nainsi', 'age': 10}, 'class3': {'name': 'sangeeta', 'age': 78}, 'class4': {'name': 'sujal', 'age': 56}}\n",
            "{'class1': {'name': 'nonu', 'age': 5}, 'class2': {'name': 'nainsi', 'age': 10}, 'class3': {'name': 'sangeeta', 'age': 78}}\n"
          ]
        }
      ]
    },
    {
      "cell_type": "code",
      "source": [
        "#sorted dictionary\n",
        "dict1={1:\"nonu\",5:\"sonu\",3:\"monu\",4:\"kanu\"}\n",
        "sorted_d= sorted(dict1.values())   \n",
        "print(sorted_d)"
      ],
      "metadata": {
        "colab": {
          "base_uri": "https://localhost:8080/",
          "height": 217
        },
        "id": "HlpsvUPVG3Lg",
        "outputId": "e44d6d13-1b54-43b4-f286-f3800559bfd4"
      },
      "execution_count": null,
      "outputs": [
        {
          "output_type": "error",
          "ename": "TypeError",
          "evalue": "ignored",
          "traceback": [
            "\u001b[0;31m---------------------------------------------------------------------------\u001b[0m",
            "\u001b[0;31mTypeError\u001b[0m                                 Traceback (most recent call last)",
            "\u001b[0;32m<ipython-input-30-4505cb47cf0c>\u001b[0m in \u001b[0;36m<module>\u001b[0;34m\u001b[0m\n\u001b[1;32m      1\u001b[0m \u001b[0;31m#sorted dictionary\u001b[0m\u001b[0;34m\u001b[0m\u001b[0;34m\u001b[0m\u001b[0m\n\u001b[1;32m      2\u001b[0m \u001b[0mdict1\u001b[0m\u001b[0;34m=\u001b[0m\u001b[0;34m{\u001b[0m\u001b[0;36m1\u001b[0m\u001b[0;34m:\u001b[0m\u001b[0;34m\"nonu\"\u001b[0m\u001b[0;34m,\u001b[0m\u001b[0;36m5\u001b[0m\u001b[0;34m:\u001b[0m\u001b[0;34m\"sonu\"\u001b[0m\u001b[0;34m,\u001b[0m\u001b[0;36m3\u001b[0m\u001b[0;34m:\u001b[0m\u001b[0;34m\"monu\"\u001b[0m\u001b[0;34m,\u001b[0m\u001b[0;36m4\u001b[0m\u001b[0;34m:\u001b[0m\u001b[0;34m\"kanu\"\u001b[0m\u001b[0;34m}\u001b[0m\u001b[0;34m\u001b[0m\u001b[0;34m\u001b[0m\u001b[0m\n\u001b[0;32m----> 3\u001b[0;31m \u001b[0msorted_d\u001b[0m\u001b[0;34m=\u001b[0m \u001b[0msorted\u001b[0m\u001b[0;34m(\u001b[0m\u001b[0mdict1\u001b[0m\u001b[0;34m.\u001b[0m\u001b[0mvalues\u001b[0m\u001b[0;34m(\u001b[0m\u001b[0;34m)\u001b[0m\u001b[0;34m)\u001b[0m\u001b[0;34m\u001b[0m\u001b[0;34m\u001b[0m\u001b[0m\n\u001b[0m\u001b[1;32m      4\u001b[0m \u001b[0mprint\u001b[0m\u001b[0;34m(\u001b[0m\u001b[0msorted_d\u001b[0m\u001b[0;34m)\u001b[0m\u001b[0;34m\u001b[0m\u001b[0;34m\u001b[0m\u001b[0m\n",
            "\u001b[0;31mTypeError\u001b[0m: 'list' object is not callable"
          ]
        }
      ]
    }
  ]
}